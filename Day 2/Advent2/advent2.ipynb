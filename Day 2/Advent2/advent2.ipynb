{
 "cells": [
  {
   "cell_type": "code",
   "execution_count": 5,
   "metadata": {},
   "outputs": [],
   "source": [
    "l = []\n",
    "\n",
    "with open(\"/Users/shiv/Documents/Day2_input.txt\",\"r\") as file:\n",
    "    for line in file:\n",
    "        l.append(line.split())\n"
   ]
  },
  {
   "cell_type": "code",
   "execution_count": 15,
   "metadata": {},
   "outputs": [],
   "source": [
    "def report_check(lst):\n",
    "    lst = list(map(int,lst))\n",
    "    \n",
    "    difference = [lst[i+1] - lst[i] for i in range(len(lst)-1)]\n",
    "    \n",
    "    if not (all(diff > 0 for diff in difference) or all(diff < 0 for diff in difference)):\n",
    "        return 0\n",
    "    \n",
    "    if not (all(1 <= abs(diff) <= 3 for diff in difference)):\n",
    "        return 0\n",
    "    \n",
    "    return 1"
   ]
  },
  {
   "cell_type": "code",
   "execution_count": 16,
   "metadata": {},
   "outputs": [],
   "source": [
    "total  = sum(map(report_check, l))"
   ]
  },
  {
   "cell_type": "code",
   "execution_count": 17,
   "metadata": {},
   "outputs": [
    {
     "name": "stdout",
     "output_type": "stream",
     "text": [
      "252\n"
     ]
    }
   ],
   "source": [
    "print(total)"
   ]
  },
  {
   "cell_type": "markdown",
   "metadata": {},
   "source": [
    "**Part 2**"
   ]
  },
  {
   "cell_type": "code",
   "execution_count": 18,
   "metadata": {},
   "outputs": [],
   "source": [
    "def dampener_check(lst):\n",
    "    \"\"\"Check if the report is safe, allowing one bad level to be removed.\"\"\"\n",
    "    if report_check(lst):\n",
    "        return 1  # Already safe\n",
    "    \n",
    "    # Try removing each element and check if it makes the list safe\n",
    "    for i in range(len(lst)):\n",
    "        modified_lst = lst[:i] + lst[i+1:]\n",
    "        if report_check(modified_lst):\n",
    "            return 1\n",
    "    \n",
    "    return 0  # Still unsafe after trying all removals"
   ]
  },
  {
   "cell_type": "code",
   "execution_count": 19,
   "metadata": {},
   "outputs": [
    {
     "name": "stdout",
     "output_type": "stream",
     "text": [
      "324\n"
     ]
    }
   ],
   "source": [
    "total  = sum(list(map(dampener_check, (i for i in l))))\n",
    "print(total)"
   ]
  }
 ],
 "metadata": {
  "kernelspec": {
   "display_name": ".venv",
   "language": "python",
   "name": "python3"
  },
  "language_info": {
   "codemirror_mode": {
    "name": "ipython",
    "version": 3
   },
   "file_extension": ".py",
   "mimetype": "text/x-python",
   "name": "python",
   "nbconvert_exporter": "python",
   "pygments_lexer": "ipython3",
   "version": "3.11.5"
  }
 },
 "nbformat": 4,
 "nbformat_minor": 2
}

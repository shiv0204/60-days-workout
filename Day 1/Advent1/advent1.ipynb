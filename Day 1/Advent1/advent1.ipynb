{
 "cells": [
  {
   "cell_type": "code",
   "execution_count": 28,
   "metadata": {},
   "outputs": [],
   "source": [
    "import os"
   ]
  },
  {
   "cell_type": "code",
   "execution_count": 29,
   "metadata": {},
   "outputs": [],
   "source": [
    "#Reading the input file and storing the values in 2 lists\n",
    "l1 = []\n",
    "l2 = []\n",
    "\n",
    "with open(\"/Users/shiv/Documents/input.txt\",\"r\") as file:\n",
    "    for line in file:\n",
    "        a, b = map(int, line.split())\n",
    "        l1.append(int(a))\n",
    "        l2.append(int(b))"
   ]
  },
  {
   "cell_type": "code",
   "execution_count": 30,
   "metadata": {},
   "outputs": [],
   "source": [
    "#sorting lists\n",
    "l1 = sorted(l1)\n",
    "l2 = sorted(l2)"
   ]
  },
  {
   "cell_type": "code",
   "execution_count": 31,
   "metadata": {},
   "outputs": [],
   "source": [
    "#calculating distance apart list\n",
    "apart = []\n",
    "for i in range(len(l1)):\n",
    "    apart.append(abs(l1[i] - l2[i]))"
   ]
  },
  {
   "cell_type": "code",
   "execution_count": 32,
   "metadata": {},
   "outputs": [
    {
     "name": "stdout",
     "output_type": "stream",
     "text": [
      "3574690\n"
     ]
    }
   ],
   "source": [
    "#calculating total distance\n",
    "s = sum(apart)\n",
    "print(s)"
   ]
  },
  {
   "cell_type": "markdown",
   "metadata": {},
   "source": [
    "**Part 2**"
   ]
  },
  {
   "cell_type": "code",
   "execution_count": 33,
   "metadata": {},
   "outputs": [
    {
     "name": "stdout",
     "output_type": "stream",
     "text": [
      "22565391\n"
     ]
    }
   ],
   "source": [
    "#calculating similarity score\n",
    "sim_score = []\n",
    "for i in l1:\n",
    "    c = l2.count(i)\n",
    "    sim_score.append(i*c)\n",
    "\n",
    "final_score = sum(sim_score)\n",
    "print(final_score)"
   ]
  }
 ],
 "metadata": {
  "kernelspec": {
   "display_name": "Python 3",
   "language": "python",
   "name": "python3"
  },
  "language_info": {
   "codemirror_mode": {
    "name": "ipython",
    "version": 3
   },
   "file_extension": ".py",
   "mimetype": "text/x-python",
   "name": "python",
   "nbconvert_exporter": "python",
   "pygments_lexer": "ipython3",
   "version": "3.11.5"
  }
 },
 "nbformat": 4,
 "nbformat_minor": 2
}
